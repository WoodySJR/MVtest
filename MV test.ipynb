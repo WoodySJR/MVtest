{
 "cells": [
  {
   "cell_type": "code",
   "execution_count": null,
   "id": "a2e68bb7",
   "metadata": {},
   "outputs": [],
   "source": [
    "# Mean Variance Independence test between a categorical variable(2 levels) and a quantitative variable\n",
    "\n",
    "# Reference: [20]Cui H, Zhong W. A distribution-free test of independence based on mean variance index[J]. \n",
    "##               Computational Statistics & Data Analysis, 2019, 139, 117-133."
   ]
  },
  {
   "cell_type": "code",
   "execution_count": 1,
   "id": "23a8f4ef",
   "metadata": {},
   "outputs": [],
   "source": [
    "import numpy as np"
   ]
  },
  {
   "cell_type": "code",
   "execution_count": null,
   "id": "a6da3f7c",
   "metadata": {},
   "outputs": [],
   "source": [
    "def MV_test(x, y):\n",
    "    '''\n",
    "    params: x: a quantitative variable, given as np.array or list\n",
    "            y: a qualitative variable (with 2 levels), given as np.array or list\n",
    "            \n",
    "    returns:\n",
    "            statistic of MV independence test as scalar\n",
    "    '''\n",
    "    \n",
    "    def F(X,x):\n",
    "    # computes empirical cdf.\n",
    "        n = np.shape(X)\n",
    "        f = X <= x\n",
    "        return(np.sum(f)/np.array(n))\n",
    "    \n",
    "    num_obs = len(y)\n",
    "    \n",
    "    index_0 = y == 0\n",
    "    index_1 = y == 1\n",
    "    n0 =  np.sum(index_0)\n",
    "    p0 = n0/num_obs\n",
    "    p1 = 1-p0\n",
    "    \n",
    "    results = np.zeros(num_obs,3) \n",
    "    x_0 = x[index_0]\n",
    "    x_1 = x[index_1]\n",
    "    \n",
    "    for i in range(0,num_obs):\n",
    "        f0 = F(x_0,x[i])\n",
    "        f1 = F(x_1,x[i])\n",
    "        f2 = F(x,x[i])\n",
    "        results[i,0]=f2\n",
    "        results[i,1]=f0\n",
    "        results[i,2]=f1\n",
    "    \n",
    "    T = p0 * np.sum((results[:,1]-results[:,0])**2) + p1 * np.sum((results[:,2]-results[:,0])**2)\n",
    "    \n",
    "    return T"
   ]
  },
  {
   "cell_type": "code",
   "execution_count": null,
   "id": "8c95429c",
   "metadata": {},
   "outputs": [],
   "source": [
    "# quantiles table of asymptotic null distribution of the MV test statistic (given in the original paper)"
   ]
  },
  {
   "cell_type": "markdown",
   "id": "d442bbd2",
   "metadata": {},
   "source": [
    "![/table.png](table.png)"
   ]
  },
  {
   "cell_type": "code",
   "execution_count": null,
   "id": "98a293b0",
   "metadata": {},
   "outputs": [],
   "source": []
  }
 ],
 "metadata": {
  "kernelspec": {
   "display_name": "Python 3 (ipykernel)",
   "language": "python",
   "name": "python3"
  },
  "language_info": {
   "codemirror_mode": {
    "name": "ipython",
    "version": 3
   },
   "file_extension": ".py",
   "mimetype": "text/x-python",
   "name": "python",
   "nbconvert_exporter": "python",
   "pygments_lexer": "ipython3",
   "version": "3.8.11"
  }
 },
 "nbformat": 4,
 "nbformat_minor": 5
}
